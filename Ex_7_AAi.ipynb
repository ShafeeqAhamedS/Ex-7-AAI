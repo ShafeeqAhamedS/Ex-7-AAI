{
  "nbformat": 4,
  "nbformat_minor": 0,
  "metadata": {
    "colab": {
      "provenance": [],
      "authorship_tag": "ABX9TyMt56npgBk5F/hURuekgfV6",
      "include_colab_link": true
    },
    "kernelspec": {
      "name": "python3",
      "display_name": "Python 3"
    },
    "language_info": {
      "name": "python"
    }
  },
  "cells": [
    {
      "cell_type": "markdown",
      "metadata": {
        "id": "view-in-github",
        "colab_type": "text"
      },
      "source": [
        "<a href=\"https://colab.research.google.com/github/ShafeeqAhamedS/Ex-7-AAI/blob/main/Ex_7_AAi.ipynb\" target=\"_parent\"><img src=\"https://colab.research.google.com/assets/colab-badge.svg\" alt=\"Open In Colab\"/></a>"
      ]
    },
    {
      "cell_type": "code",
      "execution_count": 1,
      "metadata": {
        "colab": {
          "base_uri": "https://localhost:8080/"
        },
        "id": "DtbTHFfQsEAs",
        "outputId": "5ae9a4a4-99d5-403f-e9b3-e7ecbf1fd7df"
      },
      "outputs": [
        {
          "output_type": "stream",
          "name": "stderr",
          "text": [
            "[nltk_data] Downloading package punkt to /root/nltk_data...\n",
            "[nltk_data]   Unzipping tokenizers/punkt.zip.\n",
            "[nltk_data] Downloading package stopwords to /root/nltk_data...\n",
            "[nltk_data]   Unzipping corpora/stopwords.zip.\n"
          ]
        },
        {
          "output_type": "execute_result",
          "data": {
            "text/plain": [
              "True"
            ]
          },
          "metadata": {},
          "execution_count": 1
        }
      ],
      "source": [
        "import nltk\n",
        "from nltk.corpus import stopwords\n",
        "from nltk.tokenize import word_tokenize,sent_tokenize\n",
        "from nltk.stem import PorterStemmer\n",
        "nltk.download( 'punkt' )\n",
        "nltk.download( 'stopwords' )"
      ]
    },
    {
      "cell_type": "code",
      "source": [
        "def preprocess_text(text):\n",
        "\t# Tokenize the text into words\n",
        "\twords = word_tokenize(text)\n",
        "\t# Remove stopwords and punctuation\n",
        "\tstop_words= set(stopwords.words( 'english'))\n",
        "\tfiltered_words= [word for word in words if word. lower() not in stop_words and word.isalnum()]\n",
        "\n",
        "\t# Stemming\n",
        "\tstemmer = PorterStemmer()\n",
        "\n",
        "\tstemmed_words= [stemmer. stem(word) for word in filtered_words]\n",
        "\treturn stemmed_words"
      ],
      "metadata": {
        "id": "ytcnUM0ysYgd"
      },
      "execution_count": 2,
      "outputs": []
    },
    {
      "cell_type": "code",
      "source": [
        "def generate_summary(text,num_sentences=3):\n",
        "\n",
        "\tsentences= sent_tokenize(text)\n",
        "\tpreprocessed_text = preprocess_text(text)\n",
        "\t# Calculate the frequency of each word\n",
        "\tword_frequencies =nltk. FreqDist (preprocessed_text)\n",
        "\n",
        "\t# Calculate the score for each sentence based on word frequency\n",
        "\tsentence_scores ={}\n",
        "\tfor sentence in sentences:\n",
        "\t\tfor word, freq in word_frequencies.items():\n",
        "\t\t\tif word in sentence.lower():\n",
        "\t\t\t\tif sentence not in sentence_scores:\n",
        "\t\t\t\t\tsentence_scores[sentence] = freq\n",
        "\t\t\t\telse:\n",
        "\t\t\t\t\tsentence_scores[sentence]+= freq\n",
        "\t# Select top N sentences with highest scores\n",
        "\tsummary_sentences= sorted(sentence_scores, key=sentence_scores.get,reverse=True) [ : num_sentences]\n",
        "\n",
        "\treturn ' '. join(summary_sentences)"
      ],
      "metadata": {
        "id": "gXjgkxABsV5h"
      },
      "execution_count": 3,
      "outputs": []
    },
    {
      "cell_type": "code",
      "source": [
        "import textwrap\n",
        "\n",
        "input_file = '/content/input.txt'\n",
        "with open(input_file, 'r') as file:\n",
        "    input_text = file.read()\n",
        "\n",
        "summary = generate_summary(input_text)\n",
        "print(\"Original Text: \\n\")\n",
        "print(textwrap.fill(input_text, width=80))\n",
        "print( \"\\nSummary :\\n \" )\n",
        "print(textwrap.fill(summary, width=80))\n"
      ],
      "metadata": {
        "colab": {
          "base_uri": "https://localhost:8080/"
        },
        "id": "x3tK8NojsKKh",
        "outputId": "17358c16-9056-4b58-eabe-fcde87e5cd41"
      },
      "execution_count": 16,
      "outputs": [
        {
          "output_type": "stream",
          "name": "stdout",
          "text": [
            "Original Text: \n",
            "\n",
            "Mikasa Ackerman’s life was marked by loyalty and sacrifice, but her greatest\n",
            "trial came when she had to confront and ultimately kill Eren Yeager, the boy she\n",
            "had loved and vowed to protect. Eren had been her savior, her closest friend,\n",
            "and the one who gave her a reason to live after the murder of her parents. The\n",
            "red scarf he gifted her became a constant reminder of that bond. However, as\n",
            "Eren unleashed the Rumbling, threatening humanity itself, Mikasa faced a\n",
            "heartbreaking choice: allow Eren’s destructive path to continue or end his life\n",
            "to save countless others. In a devastating final battle, she fought her way to\n",
            "him, torn between her love and the need to stop his monstrous actions. Finally\n",
            "reaching Eren, she kissed him one last time, whispering her unspoken feelings\n",
            "before ending his life—a merciful yet tragic act to free him from his torment\n",
            "and save the world. Afterward, Mikasa was haunted by the memory of that moment,\n",
            "often visiting Eren’s grave, the red scarf still with her, symbolizing the love\n",
            "and sacrifice that defined her life.\n",
            "\n",
            "Summary :\n",
            " \n",
            "Finally reaching Eren, she kissed him one last time, whispering her unspoken\n",
            "feelings before ending his life—a merciful yet tragic act to free him from his\n",
            "torment and save the world. However, as Eren unleashed the Rumbling, threatening\n",
            "humanity itself, Mikasa faced a heartbreaking choice: allow Eren’s destructive\n",
            "path to continue or end his life to save countless others. Afterward, Mikasa was\n",
            "haunted by the memory of that moment, often visiting Eren’s grave, the red scarf\n",
            "still with her, symbolizing the love and sacrifice that defined her life.\n"
          ]
        }
      ]
    },
    {
      "cell_type": "code",
      "source": [],
      "metadata": {
        "id": "MTa_35VRw-L5"
      },
      "execution_count": null,
      "outputs": []
    }
  ]
}