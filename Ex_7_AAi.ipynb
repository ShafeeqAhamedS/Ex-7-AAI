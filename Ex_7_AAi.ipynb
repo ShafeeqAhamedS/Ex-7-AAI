{
  "nbformat": 4,
  "nbformat_minor": 0,
  "metadata": {
    "colab": {
      "provenance": [],
      "authorship_tag": "ABX9TyOUnoaeCiMK2SCGW607eaAI",
      "include_colab_link": true
    },
    "kernelspec": {
      "name": "python3",
      "display_name": "Python 3"
    },
    "language_info": {
      "name": "python"
    }
  },
  "cells": [
    {
      "cell_type": "markdown",
      "metadata": {
        "id": "view-in-github",
        "colab_type": "text"
      },
      "source": [
        "<a href=\"https://colab.research.google.com/github/ShafeeqAhamedS/Ex-7-AAI/blob/main/Ex_7_AAi.ipynb\" target=\"_parent\"><img src=\"https://colab.research.google.com/assets/colab-badge.svg\" alt=\"Open In Colab\"/></a>"
      ]
    },
    {
      "cell_type": "code",
      "execution_count": 1,
      "metadata": {
        "colab": {
          "base_uri": "https://localhost:8080/"
        },
        "id": "DtbTHFfQsEAs",
        "outputId": "5ae9a4a4-99d5-403f-e9b3-e7ecbf1fd7df"
      },
      "outputs": [
        {
          "output_type": "stream",
          "name": "stderr",
          "text": [
            "[nltk_data] Downloading package punkt to /root/nltk_data...\n",
            "[nltk_data]   Unzipping tokenizers/punkt.zip.\n",
            "[nltk_data] Downloading package stopwords to /root/nltk_data...\n",
            "[nltk_data]   Unzipping corpora/stopwords.zip.\n"
          ]
        },
        {
          "output_type": "execute_result",
          "data": {
            "text/plain": [
              "True"
            ]
          },
          "metadata": {},
          "execution_count": 1
        }
      ],
      "source": [
        "import nltk\n",
        "from nltk.corpus import stopwords\n",
        "from nltk.tokenize import word_tokenize,sent_tokenize\n",
        "from nltk.stem import PorterStemmer\n",
        "nltk.download( 'punkt' )\n",
        "nltk.download( 'stopwords' )"
      ]
    },
    {
      "cell_type": "code",
      "source": [
        "def preprocess_text(text):\n",
        "\t# Tokenize the text into words\n",
        "\twords = word_tokenize(text)\n",
        "\t# Remove stopwords and punctuation\n",
        "\tstop_words= set(stopwords.words( 'english'))\n",
        "\tfiltered_words= [word for word in words if word. lower() not in stop_words and word.isalnum()]\n",
        "\n",
        "\t# Stemming\n",
        "\tstemmer = PorterStemmer()\n",
        "\n",
        "\tstemmed_words= [stemmer. stem(word) for word in filtered_words]\n",
        "\treturn stemmed_words"
      ],
      "metadata": {
        "id": "ytcnUM0ysYgd"
      },
      "execution_count": 2,
      "outputs": []
    },
    {
      "cell_type": "code",
      "source": [
        "def generate_summary(text,num_sentences=3):\n",
        "\n",
        "\tsentences= sent_tokenize(text)\n",
        "\tpreprocessed_text = preprocess_text(text)\n",
        "\t# Calculate the frequency of each word\n",
        "\tword_frequencies =nltk. FreqDist (preprocessed_text)\n",
        "\n",
        "\t# Calculate the score for each sentence based on word frequency\n",
        "\tsentence_scores ={}\n",
        "\tfor sentence in sentences:\n",
        "\t\tfor word, freq in word_frequencies.items():\n",
        "\t\t\tif word in sentence.lower():\n",
        "\t\t\t\tif sentence not in sentence_scores:\n",
        "\t\t\t\t\tsentence_scores[sentence] = freq\n",
        "\t\t\t\telse:\n",
        "\t\t\t\t\tsentence_scores[sentence]+= freq\n",
        "\t# Select top N sentences with highest scores\n",
        "\tsummary_sentences= sorted(sentence_scores, key=sentence_scores.get,reverse=True) [ : num_sentences]\n",
        "\n",
        "\treturn ' '. join(summary_sentences)"
      ],
      "metadata": {
        "id": "gXjgkxABsV5h"
      },
      "execution_count": 3,
      "outputs": []
    },
    {
      "cell_type": "code",
      "source": [
        "input_text = \"\"\"\n",
        "Mikasa Ackerman’s life was shaped by tragedy, resilience, and her enduring love for Eren Yeager.\n",
        "Born into a peaceful family, her world shattered when bandits murdered her parents,\n",
        "leaving her traumatized and alone until Eren saved her.\n",
        "In that moment, he gave her not only a reason to live but also his red scarf—a symbol of warmth, protection, and the family she’d lost.\n",
        "Eren’s gesture sparked a deep bond between them, and she vowed to protect him for life.\n",
        "Growing up together, Mikasa, Eren, and their friend Armin joined the military to fight against Titans,\n",
        "enduring horror and loss but also finding rare moments of peace and friendship.\n",
        "Mikasa quickly became a top soldier, her Ackerman instincts driving her to defend Eren fiercely.\n",
        "Yet, as years passed, Eren’s quest for freedom turned dark,\n",
        "ultimately leading him to unleash the Rumbling, a destructive force that threatened all humanity.\n",
        "Devastated, Mikasa struggled between her love for Eren and her duty to stop him, a conflict that culminated in a heartbreaking decision.\n",
        "In a final battle, she reached Eren, who had become almost unrecognizable, and, with one last kiss, ended his life to protect the world.\n",
        "Haunted by grief and love, Mikasa often visited Eren’s grave, bringing his red scarf as a constant reminder of their bond.\n",
        "Her life after his death was quiet and filled with memories, always holding close the boy who once saved her,\n",
        "even though she’d had to take his life in the end.\n",
        "Eventually, Mikasa passed away and was buried beside Eren,\n",
        "with the red scarf by her side—an enduring emblem of their love, tragedy, and the sacrifices they made.\n",
        "Through her journey, Mikasa became a symbol of unyielding loyalty,\n",
        "fierce love, and the painful choices that come with fighting for peace in a broken world.\n",
        "\"\"\"\n",
        "\n",
        "summary = generate_summary(input_text)\n",
        "print(\"Origina1 Text: \")\n",
        "print (input_text )\n",
        "print( \"\\nSummary :\\n \" )\n",
        "print(summary)"
      ],
      "metadata": {
        "colab": {
          "base_uri": "https://localhost:8080/"
        },
        "id": "x3tK8NojsKKh",
        "outputId": "40b63335-8c94-41b9-b239-2dc891ff07a2"
      },
      "execution_count": 8,
      "outputs": [
        {
          "output_type": "stream",
          "name": "stdout",
          "text": [
            "Origina1 Text: \n",
            "\n",
            "Mikasa Ackerman’s life was shaped by tragedy, resilience, and her enduring love for Eren Yeager. \n",
            "Born into a peaceful family, her world shattered when bandits murdered her parents, \n",
            "leaving her traumatized and alone until Eren saved her. \n",
            "In that moment, he gave her not only a reason to live but also his red scarf—a symbol of warmth, protection, and the family she’d lost. \n",
            "Eren’s gesture sparked a deep bond between them, and she vowed to protect him for life. \n",
            "Growing up together, Mikasa, Eren, and their friend Armin joined the military to fight against Titans, \n",
            "enduring horror and loss but also finding rare moments of peace and friendship. \n",
            "Mikasa quickly became a top soldier, her Ackerman instincts driving her to defend Eren fiercely. \n",
            "Yet, as years passed, Eren’s quest for freedom turned dark, \n",
            "ultimately leading him to unleash the Rumbling, a destructive force that threatened all humanity. \n",
            "Devastated, Mikasa struggled between her love for Eren and her duty to stop him, a conflict that culminated in a heartbreaking decision. \n",
            "In a final battle, she reached Eren, who had become almost unrecognizable, and, with one last kiss, ended his life to protect the world. \n",
            "Haunted by grief and love, Mikasa often visited Eren’s grave, bringing his red scarf as a constant reminder of their bond. \n",
            "Her life after his death was quiet and filled with memories, always holding close the boy who once saved her, \n",
            "even though she’d had to take his life in the end.\n",
            "Eventually, Mikasa passed away and was buried beside Eren, \n",
            "with the red scarf by her side—an enduring emblem of their love, tragedy, and the sacrifices they made.\n",
            "Through her journey, Mikasa became a symbol of unyielding loyalty, \n",
            "fierce love, and the painful choices that come with fighting for peace in a broken world.\n",
            "\n",
            "\n",
            "Summary :\n",
            " \n",
            "Growing up together, Mikasa, Eren, and their friend Armin joined the military to fight against Titans, \n",
            "enduring horror and loss but also finding rare moments of peace and friendship. Eventually, Mikasa passed away and was buried beside Eren, \n",
            "with the red scarf by her side—an enduring emblem of their love, tragedy, and the sacrifices they made. \n",
            "Mikasa Ackerman’s life was shaped by tragedy, resilience, and her enduring love for Eren Yeager.\n"
          ]
        }
      ]
    },
    {
      "cell_type": "code",
      "source": [],
      "metadata": {
        "id": "zBLtwh09tl3Z"
      },
      "execution_count": null,
      "outputs": []
    }
  ]
}